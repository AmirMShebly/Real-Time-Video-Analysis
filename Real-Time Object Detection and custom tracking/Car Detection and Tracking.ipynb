{
 "cells": [
  {
   "cell_type": "code",
   "execution_count": 1,
   "id": "9c00521d",
   "metadata": {},
   "outputs": [],
   "source": [
    "import cv2\n",
    "import math\n",
    "import torch\n",
    "import pandas as pd\n",
    "#from collections import defaultdict\n",
    "from ultralytics import YOLO"
   ]
  },
  {
   "cell_type": "code",
   "execution_count": 2,
   "id": "355a6398",
   "metadata": {},
   "outputs": [
    {
     "name": "stderr",
     "output_type": "stream",
     "text": [
      "Using cache found in C:\\Users\\Lenovo/.cache\\torch\\hub\\ultralytics_yolov5_master\n",
      "YOLOv5  2024-7-27 Python-3.9.13 torch-2.2.1 CPU\n",
      "\n",
      "Fusing layers... \n",
      "YOLOv5s summary: 213 layers, 7225885 parameters, 0 gradients, 16.4 GFLOPs\n",
      "Adding AutoShape... \n"
     ]
    }
   ],
   "source": [
    "model = torch.hub.load('ultralytics/yolov5', 'yolov5s')"
   ]
  },
  {
   "cell_type": "code",
   "execution_count": 3,
   "id": "4b695b77",
   "metadata": {},
   "outputs": [],
   "source": [
    "model.classes=[2]"
   ]
  },
  {
   "cell_type": "code",
   "execution_count": 4,
   "id": "b2299c3a",
   "metadata": {},
   "outputs": [],
   "source": [
    "video_path = 'cars.mp4'\n",
    "\n",
    "trackers = []\n",
    "car_centers = {}\n",
    "next_car_id = 0 \n",
    "\n",
    "cap = cv2.VideoCapture(video_path)\n",
    "\n",
    "frame_width = int(cap.get(cv2.CAP_PROP_FRAME_WIDTH))\n",
    "frame_height = int(cap.get(cv2.CAP_PROP_FRAME_HEIGHT))\n",
    "fps = int(cap.get(cv2.CAP_PROP_FPS))\n",
    "\n",
    "\n",
    "out = cv2.VideoWriter('output_video.mp4', cv2.VideoWriter_fourcc(*'mp4v'), fps, (frame_width, frame_height))\n",
    "\n",
    "while True:\n",
    "    ret, frame = cap.read()\n",
    "    if not ret:\n",
    "        break\n",
    "\n",
    "    results = model(frame)\n",
    "\n",
    "    current_car_centers = []\n",
    "    \n",
    "    for result in results.xyxy[0]: \n",
    "        x1, y1, x2, y2, conf, cls = result\n",
    "\n",
    "        if int(cls) == 2 and conf > 0.5: \n",
    "            x1, y1, x2, y2 = int(x1), int(y1), int(x2), int(y2)\n",
    "            center = int((x1 + x2) / 2), int((y1 + y2) / 2)\n",
    "            current_car_centers.append(center)\n",
    "\n",
    "            cv2.rectangle(frame, (x1, y1), (x2, y2), (0, 255, 0), 2)\n",
    "            cv2.putText(frame, f'Car', (x1, y1 - 10), cv2.FONT_HERSHEY_SIMPLEX, 0.6, (0, 255, 0), 2)\n",
    "\n",
    "    new_car_centers = []\n",
    "    for center in current_car_centers:\n",
    "        matched = False\n",
    "        for car_id, old_center in car_centers.items():\n",
    "            if math.sqrt((center[0] - old_center[0]) ** 2 + (center[1] - old_center[1]) ** 2) < 50:\n",
    "                car_centers[car_id] = center\n",
    "                new_car_centers.append((car_id, center))\n",
    "                matched = True\n",
    "                break\n",
    "        if not matched:\n",
    "            car_centers[next_car_id] = center\n",
    "            new_car_centers.append((next_car_id, center))\n",
    "            next_car_id += 1\n",
    "\n",
    "    car_centers = {car_id: center for car_id, center in new_car_centers}\n",
    "\n",
    "    for car_id, center in car_centers.items():\n",
    "        cv2.putText(frame, f'ID: {car_id}', (center[0] - 10, center[1] - 10), cv2.FONT_HERSHEY_SIMPLEX, 0.6, (255, 0, 0), 2)\n",
    "\n",
    "    out.write(frame)\n",
    "\n",
    "    cv2.imshow(\"Car Detection and Tracking\", frame)\n",
    "\n",
    "    if cv2.waitKey(1) & 0xFF == ord('q'):\n",
    "        break\n",
    "\n",
    "cap.release()\n",
    "out.release()\n",
    "cv2.destroyAllWindows()"
   ]
  }
 ],
 "metadata": {
  "kernelspec": {
   "display_name": "Python 3 (ipykernel)",
   "language": "python",
   "name": "python3"
  },
  "language_info": {
   "codemirror_mode": {
    "name": "ipython",
    "version": 3
   },
   "file_extension": ".py",
   "mimetype": "text/x-python",
   "name": "python",
   "nbconvert_exporter": "python",
   "pygments_lexer": "ipython3",
   "version": "3.9.13"
  }
 },
 "nbformat": 4,
 "nbformat_minor": 5
}
